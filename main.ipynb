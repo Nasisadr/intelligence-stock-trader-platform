{
 "cells": [
  {
   "cell_type": "code",
   "execution_count": 4,
   "metadata": {
    "collapsed": true
   },
   "outputs": [
    {
     "name": "stdout",
     "output_type": "stream",
     "text": [
      "AAPL\n",
      "1998-01-19\n",
      "AAPL\n"
     ]
    }
   ],
   "source": [
    "#####loading main.py to read all the datasets needed for the application####\n",
    "# %load main.py\n",
    "\n",
    "import tkinter as tk\n",
    "from tkinter.messagebox import showinfo\n",
    "from tkinter import *\n",
    "import tkinter\n",
    "from datetime import datetime\n",
    "import time\n",
    "import seaborn as sn\n",
    "import numpy as np\n",
    "import pandas as pd\n",
    "from datetime import date\n",
    "import dateutil.relativedelta\n",
    "import matplotlib.pyplot as plt\n",
    "import glob\n",
    "import os\n",
    "#import seaborn as sn\n",
    "from sklearn.impute import SimpleImputer\n",
    "from sklearn.ensemble import RandomForestClassifier\n",
    "from sklearn.metrics import precision_score,mean_squared_error,r2_score, mean_absolute_error\n",
    "import pandas as pd\n",
    "from pandas import read_csv\n",
    "from pandas import set_option\n",
    "from matplotlib import pyplot\n",
    "from sklearn.model_selection import train_test_split,cross_val_score,KFold\n",
    "import main\n",
    "\n",
    "\n",
    "os.chdir('C:\\\\university\\\\second semeaster\\\\machine learning\\\\test_ml')\n",
    "def construct_download_url(\n",
    "\tticker,\n",
    "\tperiod1,\n",
    "\tperiod2,\n",
    "\tinterval='monthly'\n",
    "):\n",
    "\t\"\"\"\n",
    "\t:period1 & period2: 'yyyy-mm-dd'\n",
    "\t:interval: {daily; weekly, monthly}\n",
    "\t\"\"\"\n",
    "\tdef convert_to_seconds(period):\n",
    "\t\tdatetime_value = datetime.strptime(period, '%Y-%m-%d')\n",
    "\t\ttotal_seconds = int(time.mktime(datetime_value.timetuple())) + 86400\n",
    "\t\treturn total_seconds\n",
    "\ttry:\n",
    "\t\tinterval_reference = {'daily': '1d', 'weekly': '1wk', 'monthly': '1mo'}\n",
    "\t\t_interval = interval_reference.get(interval)\n",
    "\t\tif _interval is None:\n",
    "\t\t\tprint('interval code is incorrect')\n",
    "\t\t\treturn\n",
    "\t\tp1 = convert_to_seconds(period1)\n",
    "\t\tp2 = convert_to_seconds(period2)\n",
    "\t\turl = f'https://query1.finance.yahoo.com/v7/finance/download/{ticker}?period1={p1}&period2={p2}&interval={_interval}&filter=history'\n",
    "\n",
    "\t\treturn url\n",
    "\texcept Exception as e:\n",
    "\t\tprint(e)\n",
    "\t\treturn\n",
    "\n",
    "\n",
    "\n",
    "# Getting today's date\n",
    "today=date.today()\n",
    "\n",
    "# Getting last 25 years\n",
    "start=today + dateutil.relativedelta.relativedelta(months=-300)\n",
    "#start=\"2022-01-11\"\n",
    "print(start)\n",
    "\n",
    "\n",
    "####downloading cryptos datasets######\n",
    "# A list for all Cryptos\n",
    "name_list=['BTC-GBP','ETH-GBP','USDT-GBP','BNB-GBP','USDC-GBP','XRP-GBP',\n",
    "\t\t\t'DOGE-GBP','ADA-GBP','MATIC-GBP','DOT-GBP','DAI-GBP','LTC-GBP',\n",
    "\t\t\t'SOL-GBP','TRX-GBP','HEX-GBP','UNI7083-GBP','AVAX-GBP','LINK-GBP'\n",
    "\t\t\t,'ATOM-GBP','XMR-GBP','CVNA','GME','RXDX','BYND','SAVA','AMC','MOMO','RENT','TSLA','AI',\n",
    "\t\t\t'BILI','MYSZ','EXPR','NUWE','ASML','ATOS','ZIM','CRM','RIG','GSL','AVCT',\n",
    "\t\t\t'MULN','BTI','GOCO','MBLY','VRM','MTB','EVGO','LULU','LVS','AAPL']\n",
    "\n",
    "#a loop through all the cryptos list to getting all the data for each crypto\n",
    "for i in range(len(name_list)):\n",
    "    # retrive dataset\n",
    "\tquery_url = construct_download_url(str(name_list[i]), str(start), str(today), 'daily')\n",
    "\tdf = pd.read_csv(query_url)\n",
    "\tdf.set_index('Date', inplace=True)\n",
    "\t#adding a column for cryptos name\n",
    "\t#df.insert(2,column=\"crypto\",value=(str(cryptos_list[i])))\n",
    "\t# save dataset as a CSV\n",
    "\tdf.to_csv(str(name_list[i]+'.csv'))\n",
    "\n",
    "#getting user's choosen ticker or crypto\n",
    "global file_name\n",
    "file_name=input(\"enter your input\")\n",
    "print(file_name)\n",
    "my_data=read_csv(f\"C:\\\\university\\\\second semeaster\\\\machine learning\\\\ML-final-project\\\\{file_name}.csv\", delimiter=',')\n",
    "\n"
   ]
  },
  {
   "cell_type": "code",
   "execution_count": 5,
   "outputs": [
    {
     "data": {
      "text/plain": "            Date        Open        High         Low       Close   Adj Close  \\\n6287  2023-01-05  127.129997  127.769997  124.760002  125.019997  125.019997   \n6288  2023-01-06  126.010002  130.289993  124.889999  129.619995  129.619995   \n6289  2023-01-09  130.470001  133.410004  129.889999  130.149994  130.149994   \n6290  2023-01-10  130.259995  131.259995  128.119995  130.729996  130.729996   \n6291  2023-01-11  131.250000  132.104996  130.460007  131.345001  131.345001   \n\n        Volume  \n6287  80962700  \n6288  87686600  \n6289  70790800  \n6290  63803400  \n6291  19756486  ",
      "text/html": "<div>\n<style scoped>\n    .dataframe tbody tr th:only-of-type {\n        vertical-align: middle;\n    }\n\n    .dataframe tbody tr th {\n        vertical-align: top;\n    }\n\n    .dataframe thead th {\n        text-align: right;\n    }\n</style>\n<table border=\"1\" class=\"dataframe\">\n  <thead>\n    <tr style=\"text-align: right;\">\n      <th></th>\n      <th>Date</th>\n      <th>Open</th>\n      <th>High</th>\n      <th>Low</th>\n      <th>Close</th>\n      <th>Adj Close</th>\n      <th>Volume</th>\n    </tr>\n  </thead>\n  <tbody>\n    <tr>\n      <th>6287</th>\n      <td>2023-01-05</td>\n      <td>127.129997</td>\n      <td>127.769997</td>\n      <td>124.760002</td>\n      <td>125.019997</td>\n      <td>125.019997</td>\n      <td>80962700</td>\n    </tr>\n    <tr>\n      <th>6288</th>\n      <td>2023-01-06</td>\n      <td>126.010002</td>\n      <td>130.289993</td>\n      <td>124.889999</td>\n      <td>129.619995</td>\n      <td>129.619995</td>\n      <td>87686600</td>\n    </tr>\n    <tr>\n      <th>6289</th>\n      <td>2023-01-09</td>\n      <td>130.470001</td>\n      <td>133.410004</td>\n      <td>129.889999</td>\n      <td>130.149994</td>\n      <td>130.149994</td>\n      <td>70790800</td>\n    </tr>\n    <tr>\n      <th>6290</th>\n      <td>2023-01-10</td>\n      <td>130.259995</td>\n      <td>131.259995</td>\n      <td>128.119995</td>\n      <td>130.729996</td>\n      <td>130.729996</td>\n      <td>63803400</td>\n    </tr>\n    <tr>\n      <th>6291</th>\n      <td>2023-01-11</td>\n      <td>131.250000</td>\n      <td>132.104996</td>\n      <td>130.460007</td>\n      <td>131.345001</td>\n      <td>131.345001</td>\n      <td>19756486</td>\n    </tr>\n  </tbody>\n</table>\n</div>"
     },
     "execution_count": 5,
     "metadata": {},
     "output_type": "execute_result"
    }
   ],
   "source": [
    "\n",
    "my_data.tail(5)"
   ],
   "metadata": {
    "collapsed": false
   }
  },
  {
   "cell_type": "code",
   "execution_count": 6,
   "outputs": [
    {
     "data": {
      "text/plain": "         Date      Open      High       Low     Close  Adj Close     Volume\n0  1998-01-12  0.155692  0.166295  0.152902  0.162946   0.138898  516398400\n1  1998-01-13  0.166295  0.175223  0.165179  0.174107   0.148412  636854400\n2  1998-01-14  0.177455  0.178013  0.171875  0.176339   0.150314  589265600\n3  1998-01-15  0.171317  0.176339  0.166295  0.171317   0.146034  559272000\n4  1998-01-16  0.173549  0.173549  0.166853  0.167969   0.143180  246355200",
      "text/html": "<div>\n<style scoped>\n    .dataframe tbody tr th:only-of-type {\n        vertical-align: middle;\n    }\n\n    .dataframe tbody tr th {\n        vertical-align: top;\n    }\n\n    .dataframe thead th {\n        text-align: right;\n    }\n</style>\n<table border=\"1\" class=\"dataframe\">\n  <thead>\n    <tr style=\"text-align: right;\">\n      <th></th>\n      <th>Date</th>\n      <th>Open</th>\n      <th>High</th>\n      <th>Low</th>\n      <th>Close</th>\n      <th>Adj Close</th>\n      <th>Volume</th>\n    </tr>\n  </thead>\n  <tbody>\n    <tr>\n      <th>0</th>\n      <td>1998-01-12</td>\n      <td>0.155692</td>\n      <td>0.166295</td>\n      <td>0.152902</td>\n      <td>0.162946</td>\n      <td>0.138898</td>\n      <td>516398400</td>\n    </tr>\n    <tr>\n      <th>1</th>\n      <td>1998-01-13</td>\n      <td>0.166295</td>\n      <td>0.175223</td>\n      <td>0.165179</td>\n      <td>0.174107</td>\n      <td>0.148412</td>\n      <td>636854400</td>\n    </tr>\n    <tr>\n      <th>2</th>\n      <td>1998-01-14</td>\n      <td>0.177455</td>\n      <td>0.178013</td>\n      <td>0.171875</td>\n      <td>0.176339</td>\n      <td>0.150314</td>\n      <td>589265600</td>\n    </tr>\n    <tr>\n      <th>3</th>\n      <td>1998-01-15</td>\n      <td>0.171317</td>\n      <td>0.176339</td>\n      <td>0.166295</td>\n      <td>0.171317</td>\n      <td>0.146034</td>\n      <td>559272000</td>\n    </tr>\n    <tr>\n      <th>4</th>\n      <td>1998-01-16</td>\n      <td>0.173549</td>\n      <td>0.173549</td>\n      <td>0.166853</td>\n      <td>0.167969</td>\n      <td>0.143180</td>\n      <td>246355200</td>\n    </tr>\n  </tbody>\n</table>\n</div>"
     },
     "execution_count": 6,
     "metadata": {},
     "output_type": "execute_result"
    }
   ],
   "source": [
    "my_data.head(5)"
   ],
   "metadata": {
    "collapsed": false
   }
  },
  {
   "cell_type": "code",
   "execution_count": 7,
   "outputs": [
    {
     "name": "stdout",
     "output_type": "stream",
     "text": [
      "(6292, 7)\n"
     ]
    }
   ],
   "source": [
    "print(my_data.shape)"
   ],
   "metadata": {
    "collapsed": false
   }
  },
  {
   "cell_type": "code",
   "execution_count": 8,
   "outputs": [
    {
     "name": "stdout",
     "output_type": "stream",
     "text": [
      "RangeIndex(start=0, stop=6292, step=1)\n"
     ]
    }
   ],
   "source": [
    "print(my_data.index)"
   ],
   "metadata": {
    "collapsed": false
   }
  },
  {
   "cell_type": "code",
   "execution_count": 9,
   "outputs": [
    {
     "name": "stdout",
     "output_type": "stream",
     "text": [
      "Data types are:\n",
      "Date          object\n",
      "Open         float64\n",
      "High         float64\n",
      "Low          float64\n",
      "Close        float64\n",
      "Adj Close    float64\n",
      "Volume         int64\n",
      "dtype: object\n"
     ]
    }
   ],
   "source": [
    "print(\"Data types are:\")\n",
    "print(my_data.dtypes)"
   ],
   "metadata": {
    "collapsed": false
   }
  },
  {
   "cell_type": "code",
   "execution_count": 10,
   "outputs": [
    {
     "name": "stdout",
     "output_type": "stream",
     "text": [
      "Date         datetime64[ns]\n",
      "Open                float64\n",
      "High                float64\n",
      "Low                 float64\n",
      "Close               float64\n",
      "Adj Close           float64\n",
      "Volume                int64\n",
      "dtype: object\n"
     ]
    }
   ],
   "source": [
    "#to working with time series data in pandas is needded to change the type to datetime64 and numeric aftre that\n",
    "#my_data['Date']=pd.to_numeric(pd.to_datetime(my_data['Date']))\n",
    "my_data['Date']=pd.to_datetime(my_data['Date'])\n",
    "\n",
    "print(my_data.dtypes)"
   ],
   "metadata": {
    "collapsed": false
   }
  },
  {
   "cell_type": "code",
   "execution_count": 11,
   "outputs": [
    {
     "name": "stdout",
     "output_type": "stream",
     "text": [
      "Data describe in csv fil:\n",
      "              Open         High          Low        Close    Adj Close  \\\n",
      "count  6292.000000  6292.000000  6292.000000  6292.000000  6292.000000   \n",
      "mean     27.714973    28.028956    27.402285    27.726108    26.631210   \n",
      "std      42.275386    42.792923    41.767627    42.297543    42.114894   \n",
      "min       0.155692     0.165179     0.152902     0.157924     0.134617   \n",
      "25%       0.923270     0.943917     0.893276     0.919364     0.783682   \n",
      "50%       9.238036     9.300536     9.121607     9.238392     7.874970   \n",
      "75%      31.578125    31.806250    31.341876    31.595001    28.585936   \n",
      "max     182.630005   182.940002   179.119995   182.009995   180.959732   \n",
      "\n",
      "             Volume  \n",
      "count  6.292000e+03  \n",
      "mean   4.203418e+08  \n",
      "std    3.851957e+08  \n",
      "min    1.975649e+07  \n",
      "25%    1.504462e+08  \n",
      "50%    3.076920e+08  \n",
      "75%    5.584747e+08  \n",
      "max    7.421641e+09  \n"
     ]
    }
   ],
   "source": [
    "print(\"Data describe in csv fil:\")\n",
    "print(my_data.describe())"
   ],
   "metadata": {
    "collapsed": false
   }
  },
  {
   "cell_type": "code",
   "execution_count": 12,
   "outputs": [
    {
     "data": {
      "text/plain": "        Date      Open      High       Low     Close  Adj Close     Volume  \\\n0 1998-01-12  0.155692  0.166295  0.152902  0.162946   0.138898  516398400   \n1 1998-01-13  0.166295  0.175223  0.165179  0.174107   0.148412  636854400   \n2 1998-01-14  0.177455  0.178013  0.171875  0.176339   0.150314  589265600   \n3 1998-01-15  0.171317  0.176339  0.166295  0.171317   0.146034  559272000   \n4 1998-01-16  0.173549  0.173549  0.166853  0.167969   0.143180  246355200   \n5 1998-01-20  0.170201  0.172433  0.166295  0.170201   0.145082  241561600   \n6 1998-01-21  0.167411  0.170201  0.165737  0.168806   0.143893  190209600   \n7 1998-01-22  0.166853  0.176339  0.166295  0.171875   0.146509  329728000   \n8 1998-01-23  0.172991  0.175781  0.171875  0.174107   0.148412  233161600   \n9 1998-01-26  0.173549  0.174665  0.167969  0.173549   0.147936  146440000   \n\n   Tomorrow  Target  \n0  0.174107       1  \n1  0.176339       1  \n2  0.171317       0  \n3  0.167969       0  \n4  0.170201       1  \n5  0.168806       0  \n6  0.171875       1  \n7  0.174107       1  \n8  0.173549       0  \n9  0.170759       0  ",
      "text/html": "<div>\n<style scoped>\n    .dataframe tbody tr th:only-of-type {\n        vertical-align: middle;\n    }\n\n    .dataframe tbody tr th {\n        vertical-align: top;\n    }\n\n    .dataframe thead th {\n        text-align: right;\n    }\n</style>\n<table border=\"1\" class=\"dataframe\">\n  <thead>\n    <tr style=\"text-align: right;\">\n      <th></th>\n      <th>Date</th>\n      <th>Open</th>\n      <th>High</th>\n      <th>Low</th>\n      <th>Close</th>\n      <th>Adj Close</th>\n      <th>Volume</th>\n      <th>Tomorrow</th>\n      <th>Target</th>\n    </tr>\n  </thead>\n  <tbody>\n    <tr>\n      <th>0</th>\n      <td>1998-01-12</td>\n      <td>0.155692</td>\n      <td>0.166295</td>\n      <td>0.152902</td>\n      <td>0.162946</td>\n      <td>0.138898</td>\n      <td>516398400</td>\n      <td>0.174107</td>\n      <td>1</td>\n    </tr>\n    <tr>\n      <th>1</th>\n      <td>1998-01-13</td>\n      <td>0.166295</td>\n      <td>0.175223</td>\n      <td>0.165179</td>\n      <td>0.174107</td>\n      <td>0.148412</td>\n      <td>636854400</td>\n      <td>0.176339</td>\n      <td>1</td>\n    </tr>\n    <tr>\n      <th>2</th>\n      <td>1998-01-14</td>\n      <td>0.177455</td>\n      <td>0.178013</td>\n      <td>0.171875</td>\n      <td>0.176339</td>\n      <td>0.150314</td>\n      <td>589265600</td>\n      <td>0.171317</td>\n      <td>0</td>\n    </tr>\n    <tr>\n      <th>3</th>\n      <td>1998-01-15</td>\n      <td>0.171317</td>\n      <td>0.176339</td>\n      <td>0.166295</td>\n      <td>0.171317</td>\n      <td>0.146034</td>\n      <td>559272000</td>\n      <td>0.167969</td>\n      <td>0</td>\n    </tr>\n    <tr>\n      <th>4</th>\n      <td>1998-01-16</td>\n      <td>0.173549</td>\n      <td>0.173549</td>\n      <td>0.166853</td>\n      <td>0.167969</td>\n      <td>0.143180</td>\n      <td>246355200</td>\n      <td>0.170201</td>\n      <td>1</td>\n    </tr>\n    <tr>\n      <th>5</th>\n      <td>1998-01-20</td>\n      <td>0.170201</td>\n      <td>0.172433</td>\n      <td>0.166295</td>\n      <td>0.170201</td>\n      <td>0.145082</td>\n      <td>241561600</td>\n      <td>0.168806</td>\n      <td>0</td>\n    </tr>\n    <tr>\n      <th>6</th>\n      <td>1998-01-21</td>\n      <td>0.167411</td>\n      <td>0.170201</td>\n      <td>0.165737</td>\n      <td>0.168806</td>\n      <td>0.143893</td>\n      <td>190209600</td>\n      <td>0.171875</td>\n      <td>1</td>\n    </tr>\n    <tr>\n      <th>7</th>\n      <td>1998-01-22</td>\n      <td>0.166853</td>\n      <td>0.176339</td>\n      <td>0.166295</td>\n      <td>0.171875</td>\n      <td>0.146509</td>\n      <td>329728000</td>\n      <td>0.174107</td>\n      <td>1</td>\n    </tr>\n    <tr>\n      <th>8</th>\n      <td>1998-01-23</td>\n      <td>0.172991</td>\n      <td>0.175781</td>\n      <td>0.171875</td>\n      <td>0.174107</td>\n      <td>0.148412</td>\n      <td>233161600</td>\n      <td>0.173549</td>\n      <td>0</td>\n    </tr>\n    <tr>\n      <th>9</th>\n      <td>1998-01-26</td>\n      <td>0.173549</td>\n      <td>0.174665</td>\n      <td>0.167969</td>\n      <td>0.173549</td>\n      <td>0.147936</td>\n      <td>146440000</td>\n      <td>0.170759</td>\n      <td>0</td>\n    </tr>\n  </tbody>\n</table>\n</div>"
     },
     "execution_count": 12,
     "metadata": {},
     "output_type": "execute_result"
    }
   ],
   "source": [
    "#adding tomorrow column to the datasets\n",
    "#Tomorrow is includes the day after close prive\n",
    "my_data[\"Tomorrow\"]=my_data[\"Close\"].shift(-1)\n",
    "#Adding another column for Tagrget. if tomorrow's price is higher than close price then it set 1 in the target\n",
    "my_data[\"Target\"]=(my_data[\"Tomorrow\"]>my_data[\"Close\"]).astype(int)\n",
    "my_data.head(10)"
   ],
   "metadata": {
    "collapsed": false
   }
  },
  {
   "cell_type": "code",
   "execution_count": 13,
   "outputs": [
    {
     "name": "stdout",
     "output_type": "stream",
     "text": [
      "#####Missing data #######\n",
      "           Date    Open        High         Low       Close   Adj Close  \\\n",
      "6291 2023-01-11  131.25  132.104996  130.460007  131.345001  131.345001   \n",
      "\n",
      "        Volume  Tomorrow  Target  \n",
      "6291  19756486       NaN       0  \n"
     ]
    }
   ],
   "source": [
    "#Finding missing data\n",
    "\n",
    "#printing rows containing empty variables\n",
    "my_empty_data=my_data[my_data.isna().any(axis=1)]\n",
    "print(\"#####Missing data #######\")\n",
    "print(my_empty_data)\n",
    "\n",
    "my_data=my_data.dropna()\n",
    "\n",
    "\n"
   ],
   "metadata": {
    "collapsed": false
   }
  },
  {
   "cell_type": "code",
   "execution_count": 14,
   "outputs": [
    {
     "name": "stdout",
     "output_type": "stream",
     "text": [
      "#####Missing data #######\n",
      "Empty DataFrame\n",
      "Columns: [Date, Open, High, Low, Close, Adj Close, Volume, Tomorrow, Target]\n",
      "Index: []\n"
     ]
    }
   ],
   "source": [
    "#recheck the missing values\n",
    "\n",
    "#printing rows containing empty variables\n",
    "my_empty_data=my_data[my_data.isna().any(axis=1)]\n",
    "print(\"#####Missing data #######\")\n",
    "print(my_empty_data)\n"
   ],
   "metadata": {
    "collapsed": false
   }
  },
  {
   "cell_type": "code",
   "execution_count": 15,
   "outputs": [
    {
     "name": "stdout",
     "output_type": "stream",
     "text": [
      "0\n"
     ]
    }
   ],
   "source": [
    "#Finding dublicated rows\n",
    "\n",
    "print(my_data.duplicated().sum())"
   ],
   "metadata": {
    "collapsed": false
   }
  },
  {
   "cell_type": "code",
   "execution_count": 16,
   "outputs": [
    {
     "data": {
      "text/plain": "<Figure size 500x500 with 1 Axes>",
      "image/png": "[encoded data removed]"
     },
     "metadata": {},
     "output_type": "display_data"
    },
    {
     "data": {
      "text/plain": "<Figure size 500x500 with 1 Axes>",
      "image/png": "[encoded data removed]"
     },
     "metadata": {},
     "output_type": "display_data"
    },
    {
     "data": {
      "text/plain": "<Figure size 500x500 with 1 Axes>",
      "image/png": "[encoded data removed]"
     },
     "metadata": {},
     "output_type": "display_data"
    }
   ],
   "source": [
    "#draw a graph function\n",
    "def draw_diagram(data,column):\n",
    "\tplt.figure(figsize=(5,5))\n",
    "\tplt.title('Diagram')\n",
    "\tplt.xlabel('Date')\n",
    "\tplt.ylabel(f'{column}')\n",
    "\tplt.plot(data[f'{column}'])\n",
    "\tplt.legend(['Close'])\n",
    "\tplt.savefig('images/grapg.png')\n",
    "\n",
    "draw_diagram(my_data,'Close')\n",
    "draw_diagram(my_data,'Open')\n",
    "draw_diagram(my_data,'Volume')\n",
    "\n",
    "\n",
    "\n"
   ],
   "metadata": {
    "collapsed": false
   }
  },
  {
   "cell_type": "code",
   "execution_count": 17,
   "outputs": [
    {
     "data": {
      "text/plain": "<AxesSubplot: >"
     },
     "execution_count": 17,
     "metadata": {},
     "output_type": "execute_result"
    },
    {
     "data": {
      "text/plain": "<Figure size 640x480 with 1 Axes>",
      "image/png": "[encoded data removed]"
     },
     "metadata": {},
     "output_type": "display_data"
    }
   ],
   "source": [
    "#boxplot for to find outliers\n",
    "my_data.boxplot(column=[\"Close\"])"
   ],
   "metadata": {
    "collapsed": false
   }
  },
  {
   "cell_type": "code",
   "execution_count": 18,
   "outputs": [
    {
     "name": "stdout",
     "output_type": "stream",
     "text": [
      "Median :\n",
      "Open         9.233214e+00\n",
      "High         9.299286e+00\n",
      "Low          9.118214e+00\n",
      "Close        9.238214e+00\n",
      "Adj Close    7.874819e+00\n",
      "Volume       3.077592e+08\n",
      "Tomorrow     9.238571e+00\n",
      "Target       1.000000e+00\n",
      "dtype: float64\n"
     ]
    },
    {
     "name": "stderr",
     "output_type": "stream",
     "text": [
      "C:\\Users\\nastaran\\AppData\\Local\\Temp\\ipykernel_7588\\2832021239.py:2: FutureWarning: DataFrame.mean and DataFrame.median with numeric_only=None will include datetime64 and datetime64tz columns in a future version.\n",
      "  print(my_data.median())\n"
     ]
    }
   ],
   "source": [
    "print(\"Median :\")\n",
    "print(my_data.median())\n"
   ],
   "metadata": {
    "collapsed": false
   }
  },
  {
   "cell_type": "code",
   "execution_count": 19,
   "outputs": [
    {
     "data": {
      "text/plain": "182.009995"
     },
     "execution_count": 19,
     "metadata": {},
     "output_type": "execute_result"
    }
   ],
   "source": [
    "#getting max  for each cruptos\n",
    "\n",
    "my_data['Close'].max()"
   ],
   "metadata": {
    "collapsed": false
   }
  },
  {
   "cell_type": "code",
   "execution_count": 20,
   "outputs": [
    {
     "data": {
      "text/plain": "0.157924"
     },
     "execution_count": 20,
     "metadata": {},
     "output_type": "execute_result"
    }
   ],
   "source": [
    "#getting min  for each cruptos\n",
    "\n",
    "my_data['Close'].min()"
   ],
   "metadata": {
    "collapsed": false
   }
  },
  {
   "cell_type": "code",
   "execution_count": 21,
   "outputs": [
    {
     "name": "stderr",
     "output_type": "stream",
     "text": [
      "C:\\Users\\nastaran\\AppData\\Local\\Temp\\ipykernel_7588\\687959902.py:2: FutureWarning: The default value of numeric_only in DataFrame.corr is deprecated. In a future version, it will default to False. Select only valid columns or specify the value of numeric_only to silence this warning.\n",
      "  corrMatrix=my_data.corr(method='pearson')\n"
     ]
    },
    {
     "data": {
      "text/plain": "<Figure size 640x480 with 2 Axes>",
      "image/png": "[encoded data removed]"
     },
     "metadata": {},
     "output_type": "display_data"
    }
   ],
   "source": [
    "#Create a Correlation Matrix using Pandas for cryptos\n",
    "corrMatrix=my_data.corr(method='pearson')\n",
    "sn.heatmap(corrMatrix, annot=True)\n",
    "plt.rcParams[\"figure.figsize\"] = [13,13]\n",
    "plt.rcParams[\"figure.autolayout\"] = True\n",
    "plt.savefig('images/cor.png')\n",
    "plt.show()\n",
    "#As it  is vissible there is not any linear correlation"
   ],
   "metadata": {
    "collapsed": false
   }
  },
  {
   "cell_type": "code",
   "execution_count": 22,
   "outputs": [
    {
     "name": "stderr",
     "output_type": "stream",
     "text": [
      "C:\\Users\\nastaran\\AppData\\Local\\Temp\\ipykernel_7588\\3020489423.py:1: FutureWarning: The default value of numeric_only in DataFrame.corr is deprecated. In a future version, it will default to False. Select only valid columns or specify the value of numeric_only to silence this warning.\n",
      "  correMatrix_tom=my_data.corr()[['Tomorrow']]\n",
      "C:\\Users\\nastaran\\AppData\\Local\\Temp\\ipykernel_7588\\3020489423.py:2: FutureWarning: this method is deprecated in favour of `Styler.format(precision=..)`\n",
      "  correMatrix_tom.style.background_gradient(cmap='YlOrRd').set_precision(2)\n"
     ]
    },
    {
     "data": {
      "text/plain": "<pandas.io.formats.style.Styler at 0x1e75128abe0>",
      "text/html": "<style type=\"text/css\">\n#T_a175d_row0_col0, #T_a175d_row1_col0, #T_a175d_row2_col0, #T_a175d_row3_col0, #T_a175d_row4_col0, #T_a175d_row6_col0 {\n  background-color: #800026;\n  color: #f1f1f1;\n}\n#T_a175d_row5_col0 {\n  background-color: #ffffcc;\n  color: #000000;\n}\n#T_a175d_row7_col0 {\n  background-color: #feca66;\n  color: #000000;\n}\n</style>\n<table id=\"T_a175d\">\n  <thead>\n    <tr>\n      <th class=\"blank level0\" >&nbsp;</th>\n      <th id=\"T_a175d_level0_col0\" class=\"col_heading level0 col0\" >Tomorrow</th>\n    </tr>\n  </thead>\n  <tbody>\n    <tr>\n      <th id=\"T_a175d_level0_row0\" class=\"row_heading level0 row0\" >Open</th>\n      <td id=\"T_a175d_row0_col0\" class=\"data row0 col0\" >1.00</td>\n    </tr>\n    <tr>\n      <th id=\"T_a175d_level0_row1\" class=\"row_heading level0 row1\" >High</th>\n      <td id=\"T_a175d_row1_col0\" class=\"data row1 col0\" >1.00</td>\n    </tr>\n    <tr>\n      <th id=\"T_a175d_level0_row2\" class=\"row_heading level0 row2\" >Low</th>\n      <td id=\"T_a175d_row2_col0\" class=\"data row2 col0\" >1.00</td>\n    </tr>\n    <tr>\n      <th id=\"T_a175d_level0_row3\" class=\"row_heading level0 row3\" >Close</th>\n      <td id=\"T_a175d_row3_col0\" class=\"data row3 col0\" >1.00</td>\n    </tr>\n    <tr>\n      <th id=\"T_a175d_level0_row4\" class=\"row_heading level0 row4\" >Adj Close</th>\n      <td id=\"T_a175d_row4_col0\" class=\"data row4 col0\" >1.00</td>\n    </tr>\n    <tr>\n      <th id=\"T_a175d_level0_row5\" class=\"row_heading level0 row5\" >Volume</th>\n      <td id=\"T_a175d_row5_col0\" class=\"data row5 col0\" >-0.42</td>\n    </tr>\n    <tr>\n      <th id=\"T_a175d_level0_row6\" class=\"row_heading level0 row6\" >Tomorrow</th>\n      <td id=\"T_a175d_row6_col0\" class=\"data row6 col0\" >1.00</td>\n    </tr>\n    <tr>\n      <th id=\"T_a175d_level0_row7\" class=\"row_heading level0 row7\" >Target</th>\n      <td id=\"T_a175d_row7_col0\" class=\"data row7 col0\" >0.00</td>\n    </tr>\n  </tbody>\n</table>\n"
     },
     "execution_count": 22,
     "metadata": {},
     "output_type": "execute_result"
    }
   ],
   "source": [
    "correMatrix_tom=my_data.corr()[['Tomorrow']]\n",
    "correMatrix_tom.style.background_gradient(cmap='YlOrRd').set_precision(2)\n",
    "#between Tomorrow and close there is strongly possitive relationship\n"
   ],
   "metadata": {
    "collapsed": false
   }
  },
  {
   "cell_type": "code",
   "execution_count": 23,
   "outputs": [
    {
     "name": "stdout",
     "output_type": "stream",
     "text": [
      "Open         2.057840\n",
      "High         2.059912\n",
      "Low          2.055306\n",
      "Close        2.057608\n",
      "Adj Close    2.104912\n",
      "Volume       2.952539\n",
      "Tomorrow     2.055775\n",
      "Target      -0.083705\n",
      "dtype: float64\n"
     ]
    },
    {
     "name": "stderr",
     "output_type": "stream",
     "text": [
      "C:\\Users\\nastaran\\AppData\\Local\\Temp\\ipykernel_7588\\305722313.py:2: FutureWarning: The default value of numeric_only in DataFrame.skew is deprecated. In a future version, it will default to False. In addition, specifying 'numeric_only=None' is deprecated. Select only valid columns or specify the value of numeric_only to silence this warning.\n",
      "  print(my_data.skew())\n"
     ]
    }
   ],
   "source": [
    "#checking for skewness in cryptos data\n",
    "print(my_data.skew())\n"
   ],
   "metadata": {
    "collapsed": false
   }
  },
  {
   "cell_type": "code",
   "execution_count": 24,
   "outputs": [
    {
     "data": {
      "text/plain": "'\\n#n_estimator is the number of individual decision trees more up is better\\n#min_samplea_split is helping to not being overfit\\nmodel=RandomForestClassifier(n_estimators=100,min_samples_split=100,random_state=1)\\n#all data except the last 100\\npredictors=[\"Close\",\"Volume\",\"Open\",\"High\",\"Low\"]\\n\\n#spiliting train and test\\n#all data except the last 100 rows\\ntrain=my_data.iloc[:-100]\\n#the last 100 rows\\ntest=my_data.iloc[-100:]\\n#print(train)\\n#print(test)\\n\\nX_train=train[predictors]\\ny_train=train[\"Target\"]\\nX_test=test[predictors]\\ny_test=test[\"Target\"]\\nmodel.fit(X_train,y_train)\\n#now let\\'s predict the model\\ny_pred_train=model.predict(X_train)\\ny_pred=model.predict(X_test)\\ny_pred=pd.Series(y_pred, index=test.index)\\nps=precision_score(y_test,y_pred)\\nprint(\"precision score: {:.2f}\".format((ps)))\\n\\n#mae=mean_absolute_error(y_test,y_pred)\\n#mse=mean_absolute_error(y_test,y_pred)\\n#rmse=np.sqrt(mse)\\n#r2_test=r2_score(y_test,y_pred)\\n\\n#the R2 for the train dataset\\n#r2_train=r2_score(y_train,y_pred_train)\\n\\n#print(\"Mean Absolute error: {:.2f}\".format((mae)))\\n#print(\"Mean Squared error: {:.2f}\".format((mse)))\\n#print(\" Root Mean Squared error: {:.2f}\".format((rmse)))\\n#print(\"R2 score Test data:{:.2f}\".format(r2_test))\\n#print(\"R2 score Train data:{:.2f}\".format(r2_train))\\n\\n\\n\\ncombined=pd.concat([test[\"Target\"],y_pred],axis=1)\\ncombined.plot()\\n'"
     },
     "execution_count": 24,
     "metadata": {},
     "output_type": "execute_result"
    }
   ],
   "source": [
    "#*************The first approach:The first approach:*****************\n",
    "\n",
    "\"\"\"\n",
    "#n_estimator is the number of individual decision trees more up is better\n",
    "#min_samplea_split is helping to not being overfit\n",
    "model=RandomForestClassifier(n_estimators=100,min_samples_split=100,random_state=1)\n",
    "#all data except the last 100\n",
    "predictors=[\"Close\",\"Volume\",\"Open\",\"High\",\"Low\"]\n",
    "\n",
    "#spiliting train and test\n",
    "#all data except the last 100 rows\n",
    "train=my_data.iloc[:-100]\n",
    "#the last 100 rows\n",
    "test=my_data.iloc[-100:]\n",
    "#print(train)\n",
    "#print(test)\n",
    "\n",
    "X_train=train[predictors]\n",
    "y_train=train[\"Target\"]\n",
    "X_test=test[predictors]\n",
    "y_test=test[\"Target\"]\n",
    "model.fit(X_train,y_train)\n",
    "#now let's predict the model\n",
    "y_pred_train=model.predict(X_train)\n",
    "y_pred=model.predict(X_test)\n",
    "y_pred=pd.Series(y_pred, index=test.index)\n",
    "ps=precision_score(y_test,y_pred)\n",
    "print(\"precision score: {:.2f}\".format((ps)))\n",
    "\n",
    "#mae=mean_absolute_error(y_test,y_pred)\n",
    "#mse=mean_absolute_error(y_test,y_pred)\n",
    "#rmse=np.sqrt(mse)\n",
    "#r2_test=r2_score(y_test,y_pred)\n",
    "\n",
    "#the R2 for the train dataset\n",
    "#r2_train=r2_score(y_train,y_pred_train)\n",
    "\n",
    "#print(\"Mean Absolute error: {:.2f}\".format((mae)))\n",
    "#print(\"Mean Squared error: {:.2f}\".format((mse)))\n",
    "#print(\" Root Mean Squared error: {:.2f}\".format((rmse)))\n",
    "#print(\"R2 score Test data:{:.2f}\".format(r2_test))\n",
    "#print(\"R2 score Train data:{:.2f}\".format(r2_train))\n",
    "\n",
    "\n",
    "\n",
    "combined=pd.concat([test[\"Target\"],y_pred],axis=1)\n",
    "combined.plot()\n",
    "\"\"\""
   ],
   "metadata": {
    "collapsed": false
   }
  },
  {
   "cell_type": "code",
   "execution_count": 25,
   "outputs": [
    {
     "data": {
      "text/plain": "'\"\\nmodel=RandomForestClassifier(n_estimators=100,min_samples_split=100,random_state=1)\\n\\n#this function predict the result\\npredictors=[\"Close\",\"Volume\",\"Open\",\"High\",\"Low\"]\\ndef predict(train,test,predictors,model):\\n\\t\\tmodel.fit(train[predictors],train[\"Target\"])\\n\\t\\t#now let\\'s predict the model\\n\\t\\tpreds=model.predict(test[predictors])\\n\\t\\tpreds=pd.Series(preds, index=test.index,name=\"predictions\")\\n\\t\\tcombined=pd.concat([test[\"Target\"],preds],axis=1)\\n\\t\\treturn combined\\n#2500 mean 10 years as each trading year is 250 days\\n#it train the model with 10 years data\\n#it trains the model yearly(step=250)\\ndef backtest(data,model, predictors, start=2500,step=250):\\n\\tal_predictions=[]\\n\\t#loop through each year\\'s data\\n\\tfor i in range(start,data.shape[0],step):\\n\\t\\t#till current year\\n\\t\\ttrain=data.iloc[0:i].copy()\\n\\t\\t#current year plus one year\\n\\t\\t#for example 10 it gets 10 years data and then predict model for the next 11 years\\n\\t\\ttest=data.iloc[i:(i+step)].copy()\\n\\t\\tpredictions=predict(train,test,predictors,model)\\n\\t\\tal_predictions.append(predictions)\\n\\treturn pd.concat(al_predictions)\\n\\n\\n\\n\\n\\npredictions=backtest(my_data,model,predictors)\\npredictions[\"predictions\"].value_counts()\\n\\nprecision_score(predictions[\"Target\"],predictions[\"predictions\"])\\n\\n'"
     },
     "execution_count": 25,
     "metadata": {},
     "output_type": "execute_result"
    }
   ],
   "source": [
    "#*************The second approach****************************\n",
    "\"\"\"\"\n",
    "model=RandomForestClassifier(n_estimators=100,min_samples_split=100,random_state=1)\n",
    "\n",
    "#this function predict the result\n",
    "predictors=[\"Close\",\"Volume\",\"Open\",\"High\",\"Low\"]\n",
    "def predict(train,test,predictors,model):\n",
    "\t\tmodel.fit(train[predictors],train[\"Target\"])\n",
    "\t\t#now let's predict the model\n",
    "\t\tpreds=model.predict(test[predictors])\n",
    "\t\tpreds=pd.Series(preds, index=test.index,name=\"predictions\")\n",
    "\t\tcombined=pd.concat([test[\"Target\"],preds],axis=1)\n",
    "\t\treturn combined\n",
    "#2500 mean 10 years as each trading year is 250 days\n",
    "#it train the model with 10 years data\n",
    "#it trains the model yearly(step=250)\n",
    "def backtest(data,model, predictors, start=2500,step=250):\n",
    "\tal_predictions=[]\n",
    "\t#loop through each year's data\n",
    "\tfor i in range(start,data.shape[0],step):\n",
    "\t\t#till current year\n",
    "\t\ttrain=data.iloc[0:i].copy()\n",
    "\t\t#current year plus one year\n",
    "\t\t#for example 10 it gets 10 years data and then predict model for the next 11 years\n",
    "\t\ttest=data.iloc[i:(i+step)].copy()\n",
    "\t\tpredictions=predict(train,test,predictors,model)\n",
    "\t\tal_predictions.append(predictions)\n",
    "\treturn pd.concat(al_predictions)\n",
    "\n",
    "\n",
    "\n",
    "\n",
    "\n",
    "predictions=backtest(my_data,model,predictors)\n",
    "predictions[\"predictions\"].value_counts()\n",
    "\n",
    "precision_score(predictions[\"Target\"],predictions[\"predictions\"])\n",
    "\n",
    "\"\"\""
   ],
   "metadata": {
    "collapsed": false
   }
  },
  {
   "cell_type": "code",
   "execution_count": 26,
   "outputs": [
    {
     "data": {
      "text/plain": "'\\n#Grid Search hyperparameter tuning\\nfrom sklearn.model_selection import GridSearchCV\\n\\n\\npredictors=[\"Close\",\"Volume\",\"Open\",\"High\",\"Low\"]\\n\\n#spiliting train and test\\n#all data except the last 100 rows\\ntrain=my_data.iloc[:-100]\\n#the last 100 rows\\ntest=my_data.iloc[-100:]\\n#print(train)\\n#print(test)\\n\\nX_train=train[predictors]\\ny_train=train[\"Target\"]\\nX_test=test[predictors]\\ny_test=test[\"Target\"]\\n\\n#now we can instantiate the model for our model\\n#in this case the decision tree model is used\\nmy_model=RandomForestClassifier(n_estimators=100,min_samples_split=100,random_state=1)\\n#print the model default hyperparameters\\nprint(\\'\\n Hyperparameters of Default model \\n\\', my_model.get_params(),\\'\\n\\')\\n\\n#create a cross validation split\\nkfolds_split=KFold(n_splits=10)\\n\\n#declare a dictionary of hyperparameter and values\\nclassifier_hypara=dict()\\nclassifier_hypara[\\'max_depth\\']=[2,3,4,8,10]\\nclassifier_hypara[\\'min_samples_split\\']=[2,4,6,8,9]\\nclassifier_hypara[\\'n_estimators\\']=[10,20,50,100,110]\\nclassifier_hypara[\\'criterion\\']=[\\'gini\\',\\'entropy\\']\\n\\nX=my_data[predictors]\\ny=my_data[\"Target\"]\\n#perform a gridsearch and fit the grid\\nclassifier_grid=GridSearchCV(my_model,classifier_hypara, scoring=\\'accuracy\\', n_jobs=-1, cv=kfolds_split)\\nclassifier_grid_fit=classifier_grid.fit(X,y)\\n\\n#compute the array containing the 10 folds and calculate the cros validation mean score\\nCV_scores=-cross_val_score(classifier_grid_fit,X_train, y_train, cv=kfolds_split)\\nprint(\"\\nCross Val mean: {:.3f} (std: {:.3f})\".format(CV_scores.mean()*-1,CV_scores.std()),end=\"\\n\\n\" )\\n\\n#we cab print teh hyperparameter tuning results\\nprint(\\'Best Hyperparameters: %s\\' %classifier_grid_fit.best_params_)\\nprint(\\'Best max_depth=\\', classifier_grid_fit.best_estimator_.get_params()[\\'max_depth\\'])\\nprint(\\'Best min_samples_aplit =\\', classifier_grid_fit.best_estimator_.get_params()[\\'min_samples_split\\'])\\nprint(\\'Best min_samples_leaf =\\', classifier_grid_fit.best_estimator_.get_params()[\\'min_samples_leaf\\'])\\nprint(\\'Best criterion\\', classifier_grid_fit.best_estimator_.get_params()[\\'criterion\\'])\\n\\n\\n#print best hyperparameteres\\nprint(\\'\\n Suggested Best Hyperparameters: \\n\\', classifier_grid_fit.best_estimator_.get_params())\\nprint(\\'best score: %s {:.3f}\\n\\'.format(classifier_grid_fit.best_score_))\\n\\n#now we use sugessted hyperparametes\\nmy_model= DecisionTreeClassifier(max_depth=8, min_samples_leaf=1, random_state=1, criterion=\\'gini\\',min_samples_split=2)\\n#train teh model to fit\\nmy_model.fit(X_train,y_train)\\n\\n#declare the num of folds\\nnum_folds=KFold(n_splits=10, random_state=1,shuffle=True)\\n#test by changing n_splits to 3, 5 and 10\\n#compute the array containing the 10 folds and calculate the cros validation mean score\\nCV_scores=-cross_val_score(my_model,X_train, y_train, cv=num_folds)\\nprint(\"\\nCross Val mean: {:.3f} (std: {:.3f})\".format(CV_scores.mean()*-1,CV_scores.std()),end=\"\\n\\n\" )\\n\\n\\n\\n\\n#now let\\'s predict the model\\ny_pred_train=my_model.predict(X_train)\\n#print(y_pred_train)\\ny_pred=my_model.predict(X_test)\\n#print(y_pred)\\n\\n\\n#compute train set accuracy\\nmodel_accuracy_train=accuracy_score(y_train,y_pred_train)\\nprint(\"Model accuracy on Train data:{:.2f}\".format(model_accuracy_train), \\'\\n\\')\\n\\n#compute test set accuracy\\nmodel_accuracy_test=accuracy_score(y_test,y_pred)\\nprint(\"Model accuracy on Test data:{:.2f}\".format(model_accuracy_test), \\'\\n\\')\\n\\n#constructing confusion matrix:\\nmatrix_info=confusion_matrix(y_test,y_pred)\\nprint(\"The Confusion Matrix: \\n\", matrix_info,\\'\\n\\')\\n\\n#Construct the classification report\\nclass_report=classification_report(y_test,y_pred)\\nprint(\"Report of classification:\\n\",class_report)\\n'"
     },
     "execution_count": 26,
     "metadata": {},
     "output_type": "execute_result"
    }
   ],
   "source": [
    "#Tunning the model using grid search\n",
    "\"\"\"\n",
    "#Grid Search hyperparameter tuning\n",
    "from sklearn.model_selection import GridSearchCV\n",
    "\n",
    "\n",
    "predictors=[\"Close\",\"Volume\",\"Open\",\"High\",\"Low\"]\n",
    "\n",
    "#spiliting train and test\n",
    "#all data except the last 100 rows\n",
    "train=my_data.iloc[:-100]\n",
    "#the last 100 rows\n",
    "test=my_data.iloc[-100:]\n",
    "#print(train)\n",
    "#print(test)\n",
    "\n",
    "X_train=train[predictors]\n",
    "y_train=train[\"Target\"]\n",
    "X_test=test[predictors]\n",
    "y_test=test[\"Target\"]\n",
    "\n",
    "#now we can instantiate the model for our model\n",
    "#in this case the decision tree model is used\n",
    "my_model=RandomForestClassifier(n_estimators=100,min_samples_split=100,random_state=1)\n",
    "#print the model default hyperparameters\n",
    "print('\\n Hyperparameters of Default model \\n', my_model.get_params(),'\\n')\n",
    "\n",
    "#create a cross validation split\n",
    "kfolds_split=KFold(n_splits=10)\n",
    "\n",
    "#declare a dictionary of hyperparameter and values\n",
    "classifier_hypara=dict()\n",
    "classifier_hypara['max_depth']=[2,3,4,8,10]\n",
    "classifier_hypara['min_samples_split']=[2,4,6,8,9]\n",
    "classifier_hypara['n_estimators']=[10,20,50,100,110]\n",
    "classifier_hypara['criterion']=['gini','entropy']\n",
    "\n",
    "X=my_data[predictors]\n",
    "y=my_data[\"Target\"]\n",
    "#perform a gridsearch and fit the grid\n",
    "classifier_grid=GridSearchCV(my_model,classifier_hypara, scoring='accuracy', n_jobs=-1, cv=kfolds_split)\n",
    "classifier_grid_fit=classifier_grid.fit(X,y)\n",
    "\n",
    "#compute the array containing the 10 folds and calculate the cros validation mean score\n",
    "CV_scores=-cross_val_score(classifier_grid_fit,X_train, y_train, cv=kfolds_split)\n",
    "print(\"\\nCross Val mean: {:.3f} (std: {:.3f})\".format(CV_scores.mean()*-1,CV_scores.std()),end=\"\\n\\n\" )\n",
    "\n",
    "#we cab print teh hyperparameter tuning results\n",
    "print('Best Hyperparameters: %s' %classifier_grid_fit.best_params_)\n",
    "print('Best max_depth=', classifier_grid_fit.best_estimator_.get_params()['max_depth'])\n",
    "print('Best min_samples_aplit =', classifier_grid_fit.best_estimator_.get_params()['min_samples_split'])\n",
    "print('Best min_samples_leaf =', classifier_grid_fit.best_estimator_.get_params()['min_samples_leaf'])\n",
    "print('Best criterion', classifier_grid_fit.best_estimator_.get_params()['criterion'])\n",
    "\n",
    "\n",
    "#print best hyperparameteres\n",
    "print('\\n Suggested Best Hyperparameters: \\n', classifier_grid_fit.best_estimator_.get_params())\n",
    "print('best score: %s {:.3f}\\n'.format(classifier_grid_fit.best_score_))\n",
    "\n",
    "#now we use sugessted hyperparametes\n",
    "my_model= DecisionTreeClassifier(max_depth=8, min_samples_leaf=1, random_state=1, criterion='gini',min_samples_split=2)\n",
    "#train teh model to fit\n",
    "my_model.fit(X_train,y_train)\n",
    "\n",
    "#declare the num of folds\n",
    "num_folds=KFold(n_splits=10, random_state=1,shuffle=True)\n",
    "#test by changing n_splits to 3, 5 and 10\n",
    "#compute the array containing the 10 folds and calculate the cros validation mean score\n",
    "CV_scores=-cross_val_score(my_model,X_train, y_train, cv=num_folds)\n",
    "print(\"\\nCross Val mean: {:.3f} (std: {:.3f})\".format(CV_scores.mean()*-1,CV_scores.std()),end=\"\\n\\n\" )\n",
    "\n",
    "\n",
    "\n",
    "\n",
    "#now let's predict the model\n",
    "y_pred_train=my_model.predict(X_train)\n",
    "#print(y_pred_train)\n",
    "y_pred=my_model.predict(X_test)\n",
    "#print(y_pred)\n",
    "\n",
    "\n",
    "#compute train set accuracy\n",
    "model_accuracy_train=accuracy_score(y_train,y_pred_train)\n",
    "print(\"Model accuracy on Train data:{:.2f}\".format(model_accuracy_train), '\\n')\n",
    "\n",
    "#compute test set accuracy\n",
    "model_accuracy_test=accuracy_score(y_test,y_pred)\n",
    "print(\"Model accuracy on Test data:{:.2f}\".format(model_accuracy_test), '\\n')\n",
    "\n",
    "#constructing confusion matrix:\n",
    "matrix_info=confusion_matrix(y_test,y_pred)\n",
    "print(\"The Confusion Matrix: \\n\", matrix_info,'\\n')\n",
    "\n",
    "#Construct the classification report\n",
    "class_report=classification_report(y_test,y_pred)\n",
    "print(\"Report of classification:\\n\",class_report)\n",
    "\"\"\"\n"
   ],
   "metadata": {
    "collapsed": false
   }
  },
  {
   "cell_type": "code",
   "execution_count": 27,
   "outputs": [
    {
     "data": {
      "text/plain": "'\\nimport pandas as pd\\nmodel=RandomForestClassifier(n_estimators=200,min_samples_split=50,random_state=1)\\npredictors=[\"Close\",\"Volume\",\"Open\",\"High\",\"Low\"]\\ndef predict(train,test,predictors,model):\\n\\t\\tmodel.fit(train[predictors],train[\"Target\"])\\n\\t\\t#now let\\'s predict the model\\n\\t\\t#using propability of price going up\\n\\t\\tpreds=model.predict_proba(test[predictors])[:,1]\\n\\t\\t#if it is more than 0.6\\n\\t\\tpreds[preds>=0.6]=1\\n\\t\\tpreds[preds<0.6]=0\\n\\t\\tpreds=pd.Series(preds, index=test.index,name=\"predictions\")\\n\\t\\tcombined=pd.concat([test[\"Target\"],preds],axis=1)\\n\\t\\treturn combined\\n\\n\\n#This time we will look at the priceses for the last 2 days, last 5 days(one week), last 250 days and the last 1000 days(4years)\\n#we need this to know that for example do today\\'s proce is higher than 2 days ago\\'s proce or last 4 years\\' price\\nhor=[2,5,250,1000]\\nnew_pred=[]\\nfor h in hor:\\n\\t#calculating avarage for each horizon\\n\\trolling_avr=my_data.rolling(h).mean()\\n\\t#adding ratio column\\n\\tratio_column=f\"close_ratio_{h}\"\\n\\t#adding the value of ratio\\n\\tmy_data[ratio_column]=my_data[\"Close\"]/rolling_avr[\"Close\"]\\n\\t#adding another column for trend\\n\\t#This shows the numver of column that in the last x days price went up\\n\\ttrend_column=f\"Trend_{h}\"\\n\\t#it looked at a few days ago and returns sum of target\\n\\tmy_data[trend_column]=my_data.shift(1).rolling(h).sum()[\"Target\"]\\n\\tnew_pred+=[ratio_column,trend_column]\\n\\nmy_data=my_data.dropna()\\n\\n\\npredictions=backtest(my_data,model,new_pred)\\npredictions[\"predictions\"].value_counts()\\n\\nprecision_score(predictions[\"Target\"],predictions[\"predictions\"])\\nprint(my_data.tail(10))\\ntoday_price=my_data[\"Tomorrow\"].iloc[-2]\\ntommorows_price=my_data[\"Tomorrow\"].iloc[-1]\\nflag=my_data[\"Target\"].iloc[-1]\\nprint(\"Today\\'s date\",today)\\nprint(\"Tomorrow\\'s price\",tommorows_price)\\nif (flag==1):\\n\\tprint(f\"The Price for {file_name} will go up\")\\nelif (flag==0):\\n\\tif (tommorows_price<today_price):\\n\\t    print(f\"The price for {file_name} will be decresed\")\\n\\telse:\\n\\t\\tprint(f\"The price for {file_name} will be same as today\")\\n\\n'"
     },
     "execution_count": 27,
     "metadata": {},
     "output_type": "execute_result"
    }
   ],
   "source": [
    "\"\"\"\n",
    "import pandas as pd\n",
    "model=RandomForestClassifier(n_estimators=200,min_samples_split=50,random_state=1)\n",
    "predictors=[\"Close\",\"Volume\",\"Open\",\"High\",\"Low\"]\n",
    "def predict(train,test,predictors,model):\n",
    "\t\tmodel.fit(train[predictors],train[\"Target\"])\n",
    "\t\t#now let's predict the model\n",
    "\t\t#using propability of price going up\n",
    "\t\tpreds=model.predict_proba(test[predictors])[:,1]\n",
    "\t\t#if it is more than 0.6\n",
    "\t\tpreds[preds>=0.6]=1\n",
    "\t\tpreds[preds<0.6]=0\n",
    "\t\tpreds=pd.Series(preds, index=test.index,name=\"predictions\")\n",
    "\t\tcombined=pd.concat([test[\"Target\"],preds],axis=1)\n",
    "\t\treturn combined\n",
    "\n",
    "\n",
    "#This time we will look at the priceses for the last 2 days, last 5 days(one week), last 250 days and the last 1000 days(4years)\n",
    "#we need this to know that for example do today's proce is higher than 2 days ago's proce or last 4 years' price\n",
    "hor=[2,5,250,1000]\n",
    "new_pred=[]\n",
    "for h in hor:\n",
    "\t#calculating avarage for each horizon\n",
    "\trolling_avr=my_data.rolling(h).mean()\n",
    "\t#adding ratio column\n",
    "\tratio_column=f\"close_ratio_{h}\"\n",
    "\t#adding the value of ratio\n",
    "\tmy_data[ratio_column]=my_data[\"Close\"]/rolling_avr[\"Close\"]\n",
    "\t#adding another column for trend\n",
    "\t#This shows the numver of column that in the last x days price went up\n",
    "\ttrend_column=f\"Trend_{h}\"\n",
    "\t#it looked at a few days ago and returns sum of target\n",
    "\tmy_data[trend_column]=my_data.shift(1).rolling(h).sum()[\"Target\"]\n",
    "\tnew_pred+=[ratio_column,trend_column]\n",
    "\n",
    "my_data=my_data.dropna()\n",
    "\n",
    "\n",
    "predictions=backtest(my_data,model,new_pred)\n",
    "predictions[\"predictions\"].value_counts()\n",
    "\n",
    "precision_score(predictions[\"Target\"],predictions[\"predictions\"])\n",
    "print(my_data.tail(10))\n",
    "today_price=my_data[\"Tomorrow\"].iloc[-2]\n",
    "tommorows_price=my_data[\"Tomorrow\"].iloc[-1]\n",
    "flag=my_data[\"Target\"].iloc[-1]\n",
    "print(\"Today's date\",today)\n",
    "print(\"Tomorrow's price\",tommorows_price)\n",
    "if (flag==1):\n",
    "\tprint(f\"The Price for {file_name} will go up\")\n",
    "elif (flag==0):\n",
    "\tif (tommorows_price<today_price):\n",
    "\t    print(f\"The price for {file_name} will be decresed\")\n",
    "\telse:\n",
    "\t\tprint(f\"The price for {file_name} will be same as today\")\n",
    "\n",
    "\"\"\""
   ],
   "metadata": {
    "collapsed": false
   }
  },
  {
   "cell_type": "markdown",
   "source": [],
   "metadata": {
    "collapsed": false
   }
  },
  {
   "cell_type": "code",
   "execution_count": 28,
   "outputs": [
    {
     "name": "stderr",
     "output_type": "stream",
     "text": [
      "C:\\Users\\nastaran\\AppData\\Local\\Temp\\ipykernel_7588\\3108392789.py:54: FutureWarning: Dropping of nuisance columns in rolling operations is deprecated; in a future version this will raise TypeError. Select only valid columns before calling the operation. Dropped columns were Index(['Date'], dtype='object')\n",
      "  rolling_avr=my_data.rolling(h).mean()\n",
      "C:\\Users\\nastaran\\AppData\\Local\\Temp\\ipykernel_7588\\3108392789.py:63: FutureWarning: Dropping of nuisance columns in rolling operations is deprecated; in a future version this will raise TypeError. Select only valid columns before calling the operation. Dropped columns were Index(['Date'], dtype='object')\n",
      "  my_data[trend_column]=my_data.shift(1).rolling(h).sum()[\"Target\"]\n",
      "C:\\Users\\nastaran\\AppData\\Local\\Temp\\ipykernel_7588\\3108392789.py:54: FutureWarning: Dropping of nuisance columns in rolling operations is deprecated; in a future version this will raise TypeError. Select only valid columns before calling the operation. Dropped columns were Index(['Date'], dtype='object')\n",
      "  rolling_avr=my_data.rolling(h).mean()\n",
      "C:\\Users\\nastaran\\AppData\\Local\\Temp\\ipykernel_7588\\3108392789.py:63: FutureWarning: Dropping of nuisance columns in rolling operations is deprecated; in a future version this will raise TypeError. Select only valid columns before calling the operation. Dropped columns were Index(['Date'], dtype='object')\n",
      "  my_data[trend_column]=my_data.shift(1).rolling(h).sum()[\"Target\"]\n",
      "C:\\Users\\nastaran\\AppData\\Local\\Temp\\ipykernel_7588\\3108392789.py:54: FutureWarning: Dropping of nuisance columns in rolling operations is deprecated; in a future version this will raise TypeError. Select only valid columns before calling the operation. Dropped columns were Index(['Date'], dtype='object')\n",
      "  rolling_avr=my_data.rolling(h).mean()\n",
      "C:\\Users\\nastaran\\AppData\\Local\\Temp\\ipykernel_7588\\3108392789.py:63: FutureWarning: Dropping of nuisance columns in rolling operations is deprecated; in a future version this will raise TypeError. Select only valid columns before calling the operation. Dropped columns were Index(['Date'], dtype='object')\n",
      "  my_data[trend_column]=my_data.shift(1).rolling(h).sum()[\"Target\"]\n",
      "C:\\Users\\nastaran\\AppData\\Local\\Temp\\ipykernel_7588\\3108392789.py:54: FutureWarning: Dropping of nuisance columns in rolling operations is deprecated; in a future version this will raise TypeError. Select only valid columns before calling the operation. Dropped columns were Index(['Date'], dtype='object')\n",
      "  rolling_avr=my_data.rolling(h).mean()\n",
      "C:\\Users\\nastaran\\AppData\\Local\\Temp\\ipykernel_7588\\3108392789.py:63: FutureWarning: Dropping of nuisance columns in rolling operations is deprecated; in a future version this will raise TypeError. Select only valid columns before calling the operation. Dropped columns were Index(['Date'], dtype='object')\n",
      "  my_data[trend_column]=my_data.shift(1).rolling(h).sum()[\"Target\"]\n"
     ]
    },
    {
     "name": "stdout",
     "output_type": "stream",
     "text": [
      "The accutacy of test: 0.6428571428571429\n",
      "           Date        Open        High         Low       Close   Adj Close  \\\n",
      "6281 2022-12-27  131.380005  131.410004  128.720001  130.029999  130.029999   \n",
      "6282 2022-12-28  129.669998  131.029999  125.870003  126.040001  126.040001   \n",
      "6283 2022-12-29  127.989998  130.479996  127.730003  129.610001  129.610001   \n",
      "6284 2022-12-30  128.410004  129.949997  127.430000  129.929993  129.929993   \n",
      "6285 2023-01-03  130.279999  130.899994  124.169998  125.070000  125.070000   \n",
      "6286 2023-01-04  126.889999  128.660004  125.080002  126.360001  126.360001   \n",
      "6287 2023-01-05  127.129997  127.769997  124.760002  125.019997  125.019997   \n",
      "6288 2023-01-06  126.010002  130.289993  124.889999  129.619995  129.619995   \n",
      "6289 2023-01-09  130.470001  133.410004  129.889999  130.149994  130.149994   \n",
      "6290 2023-01-10  130.259995  131.259995  128.119995  130.729996  130.729996   \n",
      "\n",
      "         Volume    Tomorrow  Target  close_ratio_2  Trend_2  close_ratio_5  \\\n",
      "6281   69007800  126.040001       0       0.993012      0.0       0.982293   \n",
      "6282   85438400  129.610001       1       0.984418      0.0       0.961242   \n",
      "6283   75703700  129.929993       1       1.013964      1.0       0.997353   \n",
      "6284   76960600  125.070000       0       1.001233      2.0       1.003367   \n",
      "6285  112117500  126.360001       1       0.980941      1.0       0.976072   \n",
      "6286   89113600  125.019997       0       1.005131      1.0       0.991821   \n",
      "6287   80962700  129.619995       1       0.994669      1.0       0.982877   \n",
      "6288   87686600  130.149994       1       1.018065      1.0       1.019025   \n",
      "6289   70790800  130.729996       1       1.002040      2.0       1.022838   \n",
      "6290   63803400  131.345001       1       1.002223      2.0       1.018337   \n",
      "\n",
      "      Trend_5  close_ratio_250  Trend_250  close_ratio_1000  Trend_1000  \n",
      "6281      1.0         0.837093      116.0          1.170772       530.0  \n",
      "6282      1.0         0.812498      116.0          1.133951       529.0  \n",
      "6283      1.0         0.836546      117.0          1.165113       529.0  \n",
      "6284      2.0         0.839741      117.0          1.167026       530.0  \n",
      "6285      2.0         0.809473      117.0          1.122491       530.0  \n",
      "6286      3.0         0.818852      118.0          1.133173       530.0  \n",
      "6287      3.0         0.811156      118.0          1.120289       529.0  \n",
      "6288      3.0         0.841932      118.0          1.160566       529.0  \n",
      "6289      3.0         0.846299      118.0          1.164364       529.0  \n",
      "6290      4.0         0.851052      118.0          1.168586       530.0  \n",
      "Today's date 2023-01-19\n",
      "Tomorrow's price 131.345001\n",
      "The Price for AAPL will go up\n"
     ]
    }
   ],
   "source": [
    "#The third approach ##################################\n",
    "import pandas as pd\n",
    "predictors=[\"Close\",\"Volume\",\"Open\",\"High\",\"Low\"]\n",
    "\n",
    "#spiliting train and test\n",
    "#all data except the last 100 rows\n",
    "#100 working better than 150 and 200 and 300\n",
    "train=my_data.iloc[:-200]\n",
    "#the last 100 rows\n",
    "test=my_data.iloc[-200:]\n",
    "#print(train)\n",
    "#print(test)\n",
    "X_train=train[predictors]\n",
    "y_train=train[\"Target\"]\n",
    "X_test=test[predictors]\n",
    "y_test=test[\"Target\"]\n",
    "#min_sample_split = 40 is working better than 50\n",
    "#n_estimatots=200 is working bettre than 150 and 250\n",
    "model=RandomForestClassifier(n_estimators=250,min_samples_split=50,max_depth=5,random_state=1)\n",
    "predictors=[\"Close\",\"Volume\",\"Open\",\"High\",\"Low\"]\n",
    "def predict(train,test,predictors,model):\n",
    "\t\tmodel.fit(train[predictors],train[\"Target\"])\n",
    "\t\t#now let's predict the model\n",
    "\t\t#using propability of price going up\n",
    "\t\tpreds=model.predict_proba(test[predictors])[:,1]\n",
    "\t\t#if it is more than 0.6\n",
    "\t\tpreds[preds>=0.6]=1\n",
    "\t\tpreds[preds<0.6]=0\n",
    "\t\tpreds=pd.Series(preds, index=test.index,name=\"predictions\")\n",
    "\t\tcombined=pd.concat([test[\"Target\"],preds],axis=1)\n",
    "\t\treturn combined\n",
    "\n",
    "def backtest(data,model, predictors, start=2500,step=250):\n",
    "\tal_predictions=[]\n",
    "\t#loop through each year's data\n",
    "\tfor i in range(start,data.shape[0],step):\n",
    "\t\t#till current year\n",
    "\t\ttrain=data.iloc[0:i].copy()\n",
    "\t\t#current year plus one year\n",
    "\t\t#for example 10 it gets 10 years data and then predict model for the next 11 years\n",
    "\t\ttest=data.iloc[i:(i+step)].copy()\n",
    "\t\tpredictions=predict(train,test,predictors,model)\n",
    "\t\tal_predictions.append(predictions)\n",
    "\treturn pd.concat(al_predictions)\n",
    "\n",
    "\n",
    "\n",
    "#This time we will look at the priceses for the last 2 days, last 5 days(one week), last 250 days and the last 1000 days(4years)\n",
    "#we need this to know that for example do today's proce is higher than 2 days ago's proce or last 4 years' price\n",
    "hor=[2,5,250,1000]\n",
    "new_pred=[]\n",
    "for h in hor:\n",
    "\t#calculating avarage for each horizon\n",
    "\trolling_avr=my_data.rolling(h).mean()\n",
    "\t#adding ratio column\n",
    "\tratio_column=f\"close_ratio_{h}\"\n",
    "\t#adding the value of ratio\n",
    "\tmy_data[ratio_column]=my_data[\"Close\"]/rolling_avr[\"Close\"]\n",
    "\t#adding another column for trend\n",
    "\t#This shows the numver of column that in the last x days price went up\n",
    "\ttrend_column=f\"Trend_{h}\"\n",
    "\t#it looked at a few days ago and returns sum of target\n",
    "\tmy_data[trend_column]=my_data.shift(1).rolling(h).sum()[\"Target\"]\n",
    "\tnew_pred+=[ratio_column,trend_column]\n",
    "\n",
    "my_data=my_data.dropna()\n",
    "\n",
    "###'#acuracy#####################################\n",
    "predictions=backtest(my_data,model,new_pred)\n",
    "predictions[\"predictions\"].value_counts()\n",
    "print(\"The accutacy of test:\", precision_score(predictions[\"Target\"],predictions[\"predictions\"]))\n",
    "\n",
    "\n",
    "\n",
    "###prediction#######\n",
    "print(my_data.tail(10))\n",
    "today_price=my_data[\"Tomorrow\"].iloc[-2]\n",
    "tommorows_price=my_data[\"Tomorrow\"].iloc[-1]\n",
    "flag=my_data[\"Target\"].iloc[-1]\n",
    "print(\"Today's date\",today)\n",
    "print(\"Tomorrow's price\",tommorows_price)\n",
    "if (flag==1):\n",
    "\tprint(f\"The Price for {file_name} will go up\")\n",
    "elif (flag==0):\n",
    "\tif (tommorows_price<today_price):\n",
    "\t    print(f\"The price for {file_name} will be decresed\")\n",
    "\telse:\n",
    "\t\tprint(f\"The price for {file_name} will be same as today\")\n"
   ],
   "metadata": {
    "collapsed": false
   }
  },
  {
   "cell_type": "code",
   "execution_count": null,
   "outputs": [],
   "source": [],
   "metadata": {
    "collapsed": false,
    "pycharm": {
     "is_executing": true
    }
   }
  },
  {
   "cell_type": "code",
   "execution_count": 28,
   "outputs": [],
   "source": [],
   "metadata": {
    "collapsed": false
   }
  },
  {
   "cell_type": "code",
   "execution_count": 28,
   "outputs": [],
   "source": [],
   "metadata": {
    "collapsed": false
   }
  },
  {
   "cell_type": "code",
   "execution_count": 28,
   "outputs": [],
   "source": [],
   "metadata": {
    "collapsed": false
   }
  },
  {
   "cell_type": "code",
   "execution_count": 28,
   "outputs": [],
   "source": [],
   "metadata": {
    "collapsed": false
   }
  }
 ],
 "metadata": {
  "kernelspec": {
   "display_name": "Python 3",
   "language": "python",
   "name": "python3"
  },
  "language_info": {
   "codemirror_mode": {
    "name": "ipython",
    "version": 2
   },
   "file_extension": ".py",
   "mimetype": "text/x-python",
   "name": "python",
   "nbconvert_exporter": "python",
   "pygments_lexer": "ipython2",
   "version": "2.7.6"
  }
 },
 "nbformat": 4,
 "nbformat_minor": 0
}
